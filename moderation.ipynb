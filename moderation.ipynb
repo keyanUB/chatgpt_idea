{
 "cells": [
  {
   "attachments": {},
   "cell_type": "markdown",
   "metadata": {},
   "source": [
    "**Moderation API Categories**\n",
    "\n",
    "|CATEGORY |\tDESCRIPTION |\n",
    "|--------|--------------|\n",
    "|hate\t| Content that expresses, incites, or promotes hate based on race, gender, ethnicity, religion, nationality, sexual orientation, disability status, or caste.|\n",
    "|hate/threatening |\tHateful content that also includes violence or serious harm towards the targeted group.|\n",
    "|self-harm |\tContent that promotes, encourages, or depicts acts of self-harm, such as suicide, cutting, and eating disorders.|\n",
    "|sexual |\tContent meant to arouse sexual excitement, such as the description of sexual activity, or that promotes sexual services (excluding sex education and wellness).|\n",
    "|sexual/minors | Sexual content that includes an individual who is under 18 years old.|\n",
    "|violence |\tContent that promotes or glorifies violence or celebrates the suffering or humiliation of others.|\n",
    "|violence/graphic |\tViolent content that depicts death, violence, or serious physical injury in extreme graphic detail.|\n",
    "#"
   ]
  },
  {
   "cell_type": "code",
   "execution_count": 3,
   "metadata": {},
   "outputs": [],
   "source": [
    "import pandas as pd\n",
    "import json\n",
    "import os\n",
    "import openai\n",
    "from tqdm import tqdm, trange\n",
    "import time"
   ]
  },
  {
   "cell_type": "code",
   "execution_count": 10,
   "metadata": {},
   "outputs": [],
   "source": [
    "# load OpenAI API key\n",
    "with open('data/credentials.txt', 'r') as f:\n",
    "    keys = json.load(f)\n",
    "openai.api_key = keys['openai']"
   ]
  },
  {
   "cell_type": "code",
   "execution_count": 11,
   "metadata": {},
   "outputs": [],
   "source": [
    "# load OpenAI Moderation model\n",
    "model = openai.Moderation"
   ]
  },
  {
   "cell_type": "code",
   "execution_count": 18,
   "metadata": {},
   "outputs": [],
   "source": [
    "# load data\n",
    "df = pd.read_csv('data/HateXplain/hate.csv')\n",
    "df = df.drop(columns='label', axis=1)"
   ]
  },
  {
   "cell_type": "code",
   "execution_count": 12,
   "metadata": {},
   "outputs": [],
   "source": [
    "# Getting moderation result\n",
    "def get_moderation(text):\n",
    "    response = model.create(\n",
    "        input=text\n",
    "    )\n",
    "    results = response[\"results\"][0]\n",
    "    # list all categories and their scores, another attibute for flagged\n",
    "    scores = {}\n",
    "    for key in results['categories'].keys():\n",
    "        score = results['category_scores'][key]\n",
    "        # round the score to 2 decimal places\n",
    "        score = round(score, 2)\n",
    "        scores[key] = score\n",
    "    flag = results['flagged']\n",
    "\n",
    "    return scores, flag"
   ]
  }
 ],
 "metadata": {
  "kernelspec": {
   "display_name": "python3",
   "language": "python",
   "name": "python3"
  },
  "language_info": {
   "codemirror_mode": {
    "name": "ipython",
    "version": 3
   },
   "file_extension": ".py",
   "mimetype": "text/x-python",
   "name": "python",
   "nbconvert_exporter": "python",
   "pygments_lexer": "ipython3",
   "version": "3.10.8"
  },
  "orig_nbformat": 4,
  "vscode": {
   "interpreter": {
    "hash": "30104676fc1f11152a662b3d1ac6a86278087a9fbbe46acdab4072763e5a483f"
   }
  }
 },
 "nbformat": 4,
 "nbformat_minor": 2
}
